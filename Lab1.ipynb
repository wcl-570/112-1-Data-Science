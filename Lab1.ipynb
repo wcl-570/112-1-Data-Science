{
 "cells": [
  {
   "cell_type": "code",
   "execution_count": null,
   "metadata": {},
   "outputs": [],
   "source": [
    "#Write a function draw_grid(m=2, n=3) that draws a similar grid with m rows and n columns.\n",
    "\n",
    "def draw_grid(row, col):\n",
    "  #定義ziqi為首行邊界線\n",
    "  ziqi = '\\n' + '+ - - '* col + '+\\n'\n",
    "  return ziqi + ('/     '* col + '/\\n' + '/     '* col + '/' + ziqi)*row\n",
    "\n",
    "print(draw_grid(2,3))"
   ]
  },
  {
   "cell_type": "code",
   "execution_count": null,
   "metadata": {},
   "outputs": [],
   "source": [
    "#The mathematician Srinivasa Ramanujan found an infinite series that can be used to generate a numerical approximation of 1 / π\n",
    "\n",
    "import math\n",
    "\n",
    "#定義ziqi為遞迴式\n",
    "def ziqi(n):\n",
    "    if n == 0:\n",
    "        return 1\n",
    "    else:\n",
    "        recurse = ziqi(n-1)\n",
    "        result = n * recurse\n",
    "        return result\n",
    "\n",
    "#定義estimate_pi為預估值\n",
    "def estimate_pi():\n",
    "    total = 0\n",
    "    k = 0\n",
    "    factor = 2 * math.sqrt(2) / 9801\n",
    "    while True:\n",
    "        num = ziqi(4*k) * (1103 + 26390*k)\n",
    "        den = ziqi(k)**4 * 396**(4*k)\n",
    "        term = factor * num / den\n",
    "        total += term\n",
    "        \n",
    "        if abs(term) < 1e-15:\n",
    "            break\n",
    "        k += 1\n",
    "\n",
    "    return 1 / total\n",
    "\n",
    "print(estimate_pi())\n",
    "print(math.pi)"
   ]
  },
  {
   "cell_type": "code",
   "execution_count": null,
   "metadata": {},
   "outputs": [],
   "source": [
    "#Two words are a “reverse pair” if each is the reverse of the other. Write a function that finds all the reverse pairs in the word list \n",
    "\n",
    "def find_reverse_pair(word_list):\n",
    "    reverse_pair_list = []\n",
    "    for item in word_list:\n",
    "        if len(item) == len(set(item)):\n",
    "            #::-1檢測reverse pair,並添加至list\n",
    "            reverse_pair_list.append((item, item[::-1]))\n",
    "    return reverse_pair_list \n",
    "\n",
    "slist = input().split(\",\")\n",
    "print(find_reverse_pair(slist))"
   ]
  },
  {
   "cell_type": "code",
   "execution_count": null,
   "metadata": {},
   "outputs": [],
   "source": [
    "#Given a dictionary d and a key k, it is easy to find the corresponding value v = d[k]. This operation is called a lookup. But what if you have v and you want to find k? There is no simple syntax for reverse lookup. \n",
    "#Implement a function for reverse lookup using the following template and note that there might be more than one key that maps to the value v.\n",
    "\n",
    "def reverse_lookup(d, v):\n",
    "    for k in d:\n",
    "        if d[k] == v:\n",
    "            return k\n",
    "    raise LookupError()\n"
   ]
  }
 ],
 "metadata": {
  "kernelspec": {
   "display_name": "Python 3",
   "language": "python",
   "name": "python3"
  },
  "language_info": {
   "codemirror_mode": {
    "name": "ipython",
    "version": 3
   },
   "file_extension": ".py",
   "mimetype": "text/x-python",
   "name": "python",
   "nbconvert_exporter": "python",
   "pygments_lexer": "ipython3",
   "version": "3.11.5"
  }
 },
 "nbformat": 4,
 "nbformat_minor": 2
}
